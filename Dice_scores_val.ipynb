{
 "cells": [
  {
   "cell_type": "markdown",
   "id": "3268d3b7-9f40-444c-8e33-216cc768cb6c",
   "metadata": {},
   "source": [
    "# Results on \"best_model\"\n",
    "Not usable because the test label definition is different from the trained one. So results for label 1 and 3 are wrong."
   ]
  },
  {
   "cell_type": "code",
   "execution_count": 7,
   "id": "96d693a6-26af-4b8f-a497-f26fc0279e11",
   "metadata": {},
   "outputs": [],
   "source": [
    "import json"
   ]
  },
  {
   "cell_type": "code",
   "execution_count": 6,
   "id": "38b69d91-627e-4c90-943d-59245f0180c4",
   "metadata": {},
   "outputs": [],
   "source": [
    "base = \"/home/annalena/Seminar_Medical_Image_Analysis/code/\"\n",
    "\n",
    "best_model_sgd_json = base + \"nnUNet_trained_models/nnUNet/2d/Task500_ACDC/nnUNetTrainerV2_SGD_fixedSchedule_Zhao2022__nnUNetPlansv2.1_bs20/prediction_Task679_mnm/model_best/summary.json\""
   ]
  },
  {
   "cell_type": "code",
   "execution_count": 8,
   "id": "f73d80a0-f9e1-4eb1-a31a-6250766cd9d0",
   "metadata": {},
   "outputs": [],
   "source": [
    "with open(best_model_sgd_json, 'r') as f:\n",
    "    data = json.load(f)"
   ]
  },
  {
   "cell_type": "code",
   "execution_count": 9,
   "id": "76bc650a-9601-4e92-aefa-496d0014415d",
   "metadata": {},
   "outputs": [
    {
     "name": "stdout",
     "output_type": "stream",
     "text": [
      "dict_keys(['author', 'description', 'id', 'name', 'results', 'task', 'timestamp'])\n",
      "dict_keys(['all', 'mean'])\n"
     ]
    }
   ],
   "source": [
    "print(data.keys())\n",
    "print(data['results'].keys())"
   ]
  },
  {
   "cell_type": "code",
   "execution_count": 11,
   "id": "54500b55-64f9-4506-9bbe-43b034e6adca",
   "metadata": {},
   "outputs": [
    {
     "data": {
      "text/plain": [
       "{'1': {'Accuracy': 0.9805753357295691,\n",
       "  'Dice': 0.00028986565178296163,\n",
       "  'False Discovery Rate': 0.9995977851869686,\n",
       "  'False Negative Rate': 0.999758699795384,\n",
       "  'False Omission Rate': 0.010572952499099796,\n",
       "  'False Positive Rate': 0.009097855768254545,\n",
       "  'Jaccard': 0.0001476106001820822,\n",
       "  'Negative Predictive Value': 0.9894270475009002,\n",
       "  'Precision': 0.000402214813031331,\n",
       "  'Recall': 0.0002413002046159267,\n",
       "  'Total Positives Reference': 7352.8966666666665,\n",
       "  'Total Positives Test': 6545.8533333333335,\n",
       "  'True Negative Rate': 0.9909021442317455},\n",
       " '2': {'Accuracy': 0.9965323583326899,\n",
       "  'Dice': 0.8319655506107111,\n",
       "  'False Discovery Rate': 0.1589133597546374,\n",
       "  'False Negative Rate': 0.16888116271785727,\n",
       "  'False Omission Rate': 0.0018466751631339392,\n",
       "  'False Positive Rate': 0.001663086607810007,\n",
       "  'Jaccard': 0.7157210719231095,\n",
       "  'Negative Predictive Value': 0.9981533248368661,\n",
       "  'Precision': 0.8410866402453626,\n",
       "  'Recall': 0.8311188372821426,\n",
       "  'Total Positives Reference': 7333.496666666667,\n",
       "  'Total Positives Test': 7151.14,\n",
       "  'True Negative Rate': 0.9983369133921898},\n",
       " '3': {'Accuracy': 0.9800558400398548,\n",
       "  'Dice': 2.1953629838362046e-05,\n",
       "  'False Discovery Rate': 0.9999703634941649,\n",
       "  'False Negative Rate': 0.9999824442587292,\n",
       "  'False Omission Rate': 0.009795854699968923,\n",
       "  'False Positive Rate': 0.010410277563980577,\n",
       "  'Jaccard': 1.0992070935693304e-05,\n",
       "  'Negative Predictive Value': 0.9902041453000311,\n",
       "  'Precision': 2.9636505835060113e-05,\n",
       "  'Recall': 1.7555741270786056e-05,\n",
       "  'Total Positives Reference': 6933.75,\n",
       "  'Total Positives Test': 7218.393333333333,\n",
       "  'True Negative Rate': 0.9895897224360194}}"
      ]
     },
     "execution_count": 11,
     "metadata": {},
     "output_type": "execute_result"
    }
   ],
   "source": [
    "data['results']['mean']"
   ]
  },
  {
   "cell_type": "code",
   "execution_count": 12,
   "id": "47ed9603-2469-4973-a21a-289fab465c98",
   "metadata": {},
   "outputs": [],
   "source": [
    "base = \"/home/annalena/Seminar_Medical_Image_Analysis/code/\"\n",
    "\n",
    "best_model_adam_json = base + \"nnUNet_trained_models/nnUNet/2d/Task500_ACDC/nnUNetTrainerV2_Adam_fixedSchedule_Zhao2022_beta__nnUNetPlansv2.1_bs20/prediction_Task679_mnm/model_best/summary.json\""
   ]
  },
  {
   "cell_type": "code",
   "execution_count": 13,
   "id": "a85d5a01-1bf6-4a5b-8a60-83c204041af7",
   "metadata": {},
   "outputs": [],
   "source": [
    "with open(best_model_sgd_json, 'r') as f:\n",
    "    data2 = json.load(f)"
   ]
  },
  {
   "cell_type": "code",
   "execution_count": 14,
   "id": "3262c41a-bd32-4d10-b0ca-da4cb0b8f764",
   "metadata": {},
   "outputs": [
    {
     "data": {
      "text/plain": [
       "{'1': {'Accuracy': 0.9805753357295691,\n",
       "  'Dice': 0.00028986565178296163,\n",
       "  'False Discovery Rate': 0.9995977851869686,\n",
       "  'False Negative Rate': 0.999758699795384,\n",
       "  'False Omission Rate': 0.010572952499099796,\n",
       "  'False Positive Rate': 0.009097855768254545,\n",
       "  'Jaccard': 0.0001476106001820822,\n",
       "  'Negative Predictive Value': 0.9894270475009002,\n",
       "  'Precision': 0.000402214813031331,\n",
       "  'Recall': 0.0002413002046159267,\n",
       "  'Total Positives Reference': 7352.8966666666665,\n",
       "  'Total Positives Test': 6545.8533333333335,\n",
       "  'True Negative Rate': 0.9909021442317455},\n",
       " '2': {'Accuracy': 0.9965323583326899,\n",
       "  'Dice': 0.8319655506107111,\n",
       "  'False Discovery Rate': 0.1589133597546374,\n",
       "  'False Negative Rate': 0.16888116271785727,\n",
       "  'False Omission Rate': 0.0018466751631339392,\n",
       "  'False Positive Rate': 0.001663086607810007,\n",
       "  'Jaccard': 0.7157210719231095,\n",
       "  'Negative Predictive Value': 0.9981533248368661,\n",
       "  'Precision': 0.8410866402453626,\n",
       "  'Recall': 0.8311188372821426,\n",
       "  'Total Positives Reference': 7333.496666666667,\n",
       "  'Total Positives Test': 7151.14,\n",
       "  'True Negative Rate': 0.9983369133921898},\n",
       " '3': {'Accuracy': 0.9800558400398548,\n",
       "  'Dice': 2.1953629838362046e-05,\n",
       "  'False Discovery Rate': 0.9999703634941649,\n",
       "  'False Negative Rate': 0.9999824442587292,\n",
       "  'False Omission Rate': 0.009795854699968923,\n",
       "  'False Positive Rate': 0.010410277563980577,\n",
       "  'Jaccard': 1.0992070935693304e-05,\n",
       "  'Negative Predictive Value': 0.9902041453000311,\n",
       "  'Precision': 2.9636505835060113e-05,\n",
       "  'Recall': 1.7555741270786056e-05,\n",
       "  'Total Positives Reference': 6933.75,\n",
       "  'Total Positives Test': 7218.393333333333,\n",
       "  'True Negative Rate': 0.9895897224360194}}"
      ]
     },
     "execution_count": 14,
     "metadata": {},
     "output_type": "execute_result"
    }
   ],
   "source": [
    "data2['results']['mean']"
   ]
  },
  {
   "cell_type": "markdown",
   "id": "4444c3e9-34b6-40b7-ab2c-49ffeeb2d1cf",
   "metadata": {},
   "source": [
    "# Results on validation split"
   ]
  },
  {
   "cell_type": "code",
   "execution_count": 16,
   "id": "a932c6ac-a94b-4357-97ac-bfe250900a05",
   "metadata": {},
   "outputs": [],
   "source": [
    "val_path = base + \"nnUNet_trained_models/nnUNet/2d/Task500_ACDC/nnUNetTrainerV2_SGD_fixedSchedule_Zhao2022__nnUNetPlansv2.1_bs20/fold_0/validation_raw/summary.json\""
   ]
  },
  {
   "cell_type": "code",
   "execution_count": 17,
   "id": "9acaeac0-825c-463a-a231-1c84424b7ff9",
   "metadata": {},
   "outputs": [],
   "source": [
    "with open(val_path, 'r') as f:\n",
    "    data = json.load(f)"
   ]
  },
  {
   "cell_type": "code",
   "execution_count": 18,
   "id": "a2e4c516-57ad-4839-9a69-a0df7a6ff2bd",
   "metadata": {},
   "outputs": [
    {
     "data": {
      "text/plain": [
       "{'0': {'Accuracy': 0.9968164313533429,\n",
       "  'Dice': 0.9983396269612694,\n",
       "  'False Discovery Rate': 0.0012858051249974606,\n",
       "  'False Negative Rate': 0.0020332063170719894,\n",
       "  'False Omission Rate': 0.05131252340095841,\n",
       "  'False Positive Rate': 0.03268428942489709,\n",
       "  'Jaccard': 0.9966860996238449,\n",
       "  'Negative Predictive Value': 0.9486874765990414,\n",
       "  'Precision': 0.9987141948750026,\n",
       "  'Recall': 0.997966793682928,\n",
       "  'Total Positives Reference': 468848.95,\n",
       "  'Total Positives Test': 468494.525,\n",
       "  'True Negative Rate': 0.9673157105751031},\n",
       " '1': {'Accuracy': 0.9976500704874969,\n",
       "  'Dice': 0.8933629161950016,\n",
       "  'False Discovery Rate': 0.13022443246768556,\n",
       "  'False Negative Rate': 0.07283382173157263,\n",
       "  'False Omission Rate': 0.000840667446346623,\n",
       "  'False Positive Rate': 0.001542776333646248,\n",
       "  'Jaccard': 0.8158915277950722,\n",
       "  'Negative Predictive Value': 0.9991593325536534,\n",
       "  'Precision': 0.8697755675323144,\n",
       "  'Recall': 0.9271661782684275,\n",
       "  'Total Positives Reference': 6377.8,\n",
       "  'Total Positives Test': 6732.925,\n",
       "  'True Negative Rate': 0.9984572236663538},\n",
       " '2': {'Accuracy': 0.9977707753476622,\n",
       "  'Dice': 0.9135248240242178,\n",
       "  'False Discovery Rate': 0.08627383672223765,\n",
       "  'False Negative Rate': 0.08562058748745437,\n",
       "  'False Omission Rate': 0.0011555802587451685,\n",
       "  'False Positive Rate': 0.001105331013102165,\n",
       "  'Jaccard': 0.8416901059368544,\n",
       "  'Negative Predictive Value': 0.9988444197412548,\n",
       "  'Precision': 0.9137261632777622,\n",
       "  'Recall': 0.9143794125125456,\n",
       "  'Total Positives Reference': 6558.925,\n",
       "  'Total Positives Test': 6526.325,\n",
       "  'True Negative Rate': 0.9988946689868978},\n",
       " '3': {'Accuracy': 0.9991078703633054,\n",
       "  'Dice': 0.9490817052883447,\n",
       "  'False Discovery Rate': 0.05202242592285922,\n",
       "  'False Negative Rate': 0.04692192788640052,\n",
       "  'False Omission Rate': 0.0004159668090924066,\n",
       "  'False Positive Rate': 0.00048769922971981795,\n",
       "  'Jaccard': 0.9052600298053661,\n",
       "  'Negative Predictive Value': 0.9995840331909076,\n",
       "  'Precision': 0.9479775740771409,\n",
       "  'Recall': 0.9530780721135995,\n",
       "  'Total Positives Reference': 5738.325,\n",
       "  'Total Positives Test': 5770.225,\n",
       "  'True Negative Rate': 0.9995123007702802}}"
      ]
     },
     "execution_count": 18,
     "metadata": {},
     "output_type": "execute_result"
    }
   ],
   "source": [
    "data['results']['mean']"
   ]
  },
  {
   "cell_type": "code",
   "execution_count": 25,
   "id": "5d9ba875-0804-4791-ac14-b97b6932bc78",
   "metadata": {},
   "outputs": [],
   "source": [
    "val_path_adam = base + \"nnUNet_trained_models/nnUNet/2d/Task500_ACDC/nnUNetTrainerV2_Adam_fixedSchedule_Zhao2022_beta__nnUNetPlansv2.1_bs08/fold_0/validation_raw/summary.json\"\n",
    "\n"
   ]
  },
  {
   "cell_type": "code",
   "execution_count": 26,
   "id": "b4dc18c1-0f23-4d26-a566-c83b33bf1138",
   "metadata": {},
   "outputs": [],
   "source": [
    "with open(val_path_adam, 'r') as f:\n",
    "    vargs = json.load(f)"
   ]
  },
  {
   "cell_type": "code",
   "execution_count": 27,
   "id": "02c5bfa3-d3d1-4666-9422-5b87f611d894",
   "metadata": {},
   "outputs": [
    {
     "data": {
      "text/plain": [
       "dict_keys(['author', 'description', 'id', 'name', 'results', 'task', 'timestamp'])"
      ]
     },
     "execution_count": 27,
     "metadata": {},
     "output_type": "execute_result"
    }
   ],
   "source": [
    "vargs.keys()"
   ]
  },
  {
   "cell_type": "code",
   "execution_count": 29,
   "id": "8d1eb216-8b15-4b37-8a4f-ca21ab98a84f",
   "metadata": {},
   "outputs": [
    {
     "data": {
      "text/plain": [
       "{'0': {'Accuracy': 0.9973478079421042,\n",
       "  'Dice': 0.9986187825398254,\n",
       "  'False Discovery Rate': 0.0011790062629229519,\n",
       "  'False Negative Rate': 0.0015825479083626775,\n",
       "  'False Omission Rate': 0.04143430020875642,\n",
       "  'False Positive Rate': 0.03152995383032179,\n",
       "  'Jaccard': 0.9972420299638298,\n",
       "  'Negative Predictive Value': 0.9585656997912435,\n",
       "  'Precision': 0.9988209937370771,\n",
       "  'Recall': 0.9984174520916372,\n",
       "  'Total Positives Reference': 468848.95,\n",
       "  'Total Positives Test': 468663.7,\n",
       "  'True Negative Rate': 0.9684700461696781},\n",
       " '1': {'Accuracy': 0.998222907809345,\n",
       "  'Dice': 0.9218691844418483,\n",
       "  'False Discovery Rate': 0.10235010571162637,\n",
       "  'False Negative Rate': 0.04849283742507286,\n",
       "  'False Omission Rate': 0.0005662172283699104,\n",
       "  'False Positive Rate': 0.0012379524824603888,\n",
       "  'Jaccard': 0.8580150835602687,\n",
       "  'Negative Predictive Value': 0.9994337827716301,\n",
       "  'Precision': 0.8976498942883735,\n",
       "  'Recall': 0.9515071625749272,\n",
       "  'Total Positives Reference': 6377.8,\n",
       "  'Total Positives Test': 6707.925,\n",
       "  'True Negative Rate': 0.9987620475175397},\n",
       " '2': {'Accuracy': 0.9977914993150936,\n",
       "  'Dice': 0.9125004106308896,\n",
       "  'False Discovery Rate': 0.07542457200584542,\n",
       "  'False Negative Rate': 0.09810110736630819,\n",
       "  'False Omission Rate': 0.0013075260593308543,\n",
       "  'False Positive Rate': 0.0009316473874980274,\n",
       "  'Jaccard': 0.8401835318268972,\n",
       "  'Negative Predictive Value': 0.9986924739406693,\n",
       "  'Precision': 0.9245754279941547,\n",
       "  'Recall': 0.9018988926336918,\n",
       "  'Total Positives Reference': 6558.925,\n",
       "  'Total Positives Test': 6370.7,\n",
       "  'True Negative Rate': 0.9990683526125019},\n",
       " '3': {'Accuracy': 0.9990589326170591,\n",
       "  'Dice': 0.9429727897518904,\n",
       "  'False Discovery Rate': 0.054275552811980154,\n",
       "  'False Negative Rate': 0.05338216092250212,\n",
       "  'False Omission Rate': 0.0004279704634934053,\n",
       "  'False Positive Rate': 0.0005253743155223284,\n",
       "  'Jaccard': 0.897354747881885,\n",
       "  'Negative Predictive Value': 0.9995720295365065,\n",
       "  'Precision': 0.9457244471880198,\n",
       "  'Recall': 0.9466178390774977,\n",
       "  'Total Positives Reference': 5738.325,\n",
       "  'Total Positives Test': 5781.675,\n",
       "  'True Negative Rate': 0.9994746256844778}}"
      ]
     },
     "execution_count": 29,
     "metadata": {},
     "output_type": "execute_result"
    }
   ],
   "source": [
    "vargs['results']['mean']"
   ]
  },
  {
   "cell_type": "code",
   "execution_count": null,
   "id": "5c1d4413-b784-423c-ae30-b7eac02cec6d",
   "metadata": {},
   "outputs": [],
   "source": []
  }
 ],
 "metadata": {
  "kernelspec": {
   "display_name": "Python 3 (ipykernel)",
   "language": "python",
   "name": "python3"
  },
  "language_info": {
   "codemirror_mode": {
    "name": "ipython",
    "version": 3
   },
   "file_extension": ".py",
   "mimetype": "text/x-python",
   "name": "python",
   "nbconvert_exporter": "python",
   "pygments_lexer": "ipython3",
   "version": "3.9.12"
  }
 },
 "nbformat": 4,
 "nbformat_minor": 5
}
