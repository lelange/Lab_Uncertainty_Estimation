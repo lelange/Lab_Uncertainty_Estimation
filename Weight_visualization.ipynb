{
 "cells": [
  {
   "cell_type": "code",
   "execution_count": 1,
   "id": "127b858c-089b-4ff4-94a8-56572eafa364",
   "metadata": {},
   "outputs": [
    {
     "name": "stdout",
     "output_type": "stream",
     "text": [
      "\n",
      "\n",
      "Please cite the following paper when using nnUNet:\n",
      "\n",
      "Isensee, F., Jaeger, P.F., Kohl, S.A.A. et al. \"nnU-Net: a self-configuring method for deep learning-based biomedical image segmentation.\" Nat Methods (2020). https://doi.org/10.1038/s41592-020-01008-z\n",
      "\n",
      "\n",
      "If you have questions or suggestions, feel free to open an issue at https://github.com/MIC-DKFZ/nnUNet\n",
      "\n"
     ]
    }
   ],
   "source": [
    "import os\n",
    "from batchgenerators.utilities.file_and_folder_operations import *\n",
    "import shutil\n",
    "from nnunet.inference.predict import predict_cases, check_input_folder_and_return_caseIDs\n",
    "from tqdm import tqdm"
   ]
  },
  {
   "cell_type": "code",
   "execution_count": 2,
   "id": "b7860211-0422-4f75-aaea-f3f53fdfacd9",
   "metadata": {},
   "outputs": [],
   "source": [
    "import SimpleITK as sitk\n",
    "import numpy as np\n",
    "from nnunet.training.model_restore import load_model_and_checkpoint_files"
   ]
  },
  {
   "cell_type": "code",
   "execution_count": 3,
   "id": "ddf648ec-fe7f-49fa-9576-5311a08342cd",
   "metadata": {},
   "outputs": [],
   "source": [
    "\n",
    "\n",
    "base = \"/home/annalena/Seminar_Medical_Image_Analysis/code/\"\n",
    "input_folder = \"/home/annalena/Seminar_Medical_Image_Analysis/code/data/nnUNet_raw_data_base/nnUNet_raw_data/Task679_mnm/imagesTr/\"\n",
    "checkpoint_prediction_folder = \"nnUNet_trained_models/nnUNet/2d/Task500_ACDC/nnUNetTrainerV2_SGD_fixedSchedule_Zhao2022__nnUNetPlansv2.1_bs20/prediction_Task679_mnm/\"\n",
    "\n",
    "model = base + \"nnUNet_trained_models/nnUNet/2d/Task500_ACDC/nnUNetTrainerV2_SGD_fixedSchedule_Zhao2022__nnUNetPlansv2.1_bs20/\"\n",
    "folds = (0, ) # or None\n",
    "save_npz = True\n",
    "\n",
    "# default values - see documentation\n",
    "num_parts = 1\n",
    "part_id = 0 \n",
    "\n",
    "# checkpoint list\n",
    "max_cycles = 3\n",
    "max_num_epochs = 1200\n",
    "max_num_epochs_per_cycle = int(max_num_epochs / max_cycles)\n",
    "save_last_x_checkpoints_per_cycle = 10\n",
    "\n",
    "checkpoints_multi_modal = [\"model_ep_%03.0d\" % (epoch + 1) for epoch in range(max_num_epochs) if max_num_epochs_per_cycle - (epoch % max_num_epochs_per_cycle) <= save_last_x_checkpoints_per_cycle]\n",
    "checkpoints_single_modal = [\"model_ep_%03.0d\" % (epoch + 1) for epoch in range(max_num_epochs - save_last_x_checkpoints_per_cycle * max_cycles, max_num_epochs)]\n",
    "checkpoints_all = list(set(checkpoints_multi_modal + checkpoints_single_modal))\n",
    "\n",
    "#print(len(checkpoints_multi_modal), checkpoints_multi_modal)\n",
    "#print(len(checkpoints_single_modal), checkpoints_single_modal)\n",
    "#print(len(checkpoints_all), checkpoints_all)\n"
   ]
  },
  {
   "cell_type": "code",
   "execution_count": 4,
   "id": "5b2f2059-408d-4bbe-8f35-46ac35c2e1c3",
   "metadata": {},
   "outputs": [],
   "source": [
    "# get predictions for one epoch for all test images:\n",
    "folder_with_predictions = \"/home/annalena/Seminar_Medical_Image_Analysis/code/nnUNet_trained_models/nnUNet/2d/Task500_ACDC/nnUNetTrainerV2_SGD_fixedSchedule_Zhao2022__nnUNetPlansv2.1_bs20/prediction_Task679_mnm/model_ep_392\"\n",
    "folder_with_gts = \"/home/annalena/Seminar_Medical_Image_Analysis/code/data/nnUNet_raw_data_base/nnUNet_raw_data/Task679_mnm/labelsTr/\"\n",
    "foder_with_test_inputs = \"/home/annalena/Seminar_Medical_Image_Analysis/code/data/nnUNet_raw_data_base/nnUNet_raw_data/Task679_mnm/imagesTr/\"\n",
    "folder_with_epochs = \"/home/annalena/Seminar_Medical_Image_Analysis/code/nnUNet_trained_models/nnUNet/2d/Task500_ACDC/nnUNetTrainerV2_SGD_fixedSchedule_Zhao2022__nnUNetPlansv2.1_bs20/prediction_Task679_mnm/\"\n",
    "\n",
    "files_gt = subfiles(folder_with_gts, suffix=\".nii.gz\", join=False)\n",
    "files_gt_npz = subfiles(folder_with_gts, suffix=\".npz\", join=False)\n",
    "files_pred = subfiles(folder_with_predictions, suffix=\".npz\", join=False)\n",
    "files_pred_niigz = subfiles(folder_with_predictions, suffix=\".nii.gz\", join=False)\n",
    "\n",
    "\n",
    "# check that prediction files match gt files\n",
    "assert all([i in files_pred_niigz for i in files_gt]), \"files missing in folder_with_predictions\"\n",
    "assert all([i in files_gt for i in files_pred_niigz]), \"files missing in folder_with_gts\"\n",
    "\n",
    "# predictions for checkpoint 392\n",
    "one_epoch_all_prediction_paths = [join(folder_with_predictions, i) for i in files_pred]\n",
    "# predictions for one test image\n",
    "case_no = 0\n",
    "test_name = files_pred[case_no]\n",
    "all_epochs_one_prediction_paths = [join(folder_with_epochs, i, test_name) for i in checkpoints_multi_modal]\n"
   ]
  },
  {
   "cell_type": "code",
   "execution_count": null,
   "id": "3b308aa7-d2ef-4857-a2d3-c3d1560eace8",
   "metadata": {},
   "outputs": [],
   "source": [
    "def get_posterior_vector(case_no):\n",
    "    '''\n",
    "    Get ensemble prediction of multi-modal checkpoints\n",
    "    \n",
    "    :param case_no: id (int) of test instance\n",
    "    '''\n",
    "    case_name = files_pred[case_no]\n",
    "    #folder_with_epochs = \"/home/annalena/Seminar_Medical_Image_Analysis/code/nnUNet_trained_models/nnUNet/2d/Task500_ACDC/nnUNetTrainerV2_SGD_fixedSchedule_Zhao2022__nnUNetPlansv2.1_bs20/prediction_Task679_mnm/\"\n",
    "    all_epochs_one_prediction_paths = [join(folder_with_epochs, i, case_name) for i in checkpoints_multi_modal]\n",
    "    softmax_pred = np.array([np.load(p)['softmax'] for p in all_epochs_one_prediction_paths])\n",
    "    posterior_vector = np.mean(softmax_pred, axis = 0)\n",
    "    return posterior_vector"
   ]
  },
  {
   "cell_type": "code",
   "execution_count": null,
   "id": "8ef1ca64-9635-4239-937d-23e058ae8113",
   "metadata": {},
   "outputs": [],
   "source": [
    "trainer, params = load_model_and_checkpoint_files(model, folds, mixed_precision=mixed_precision,\n",
    "                                                      checkpoint_name=checkpoint_name)"
   ]
  },
  {
   "cell_type": "code",
   "execution_count": null,
   "id": "05cf6ade-6de9-4630-b5c7-74c1f01abee7",
   "metadata": {},
   "outputs": [],
   "source": [
    "trainer = restore_model(join(folds[0], \"%s.model.pkl\" % checkpoint_name), fp16=mixed_precision)\n",
    "trainer.output_folder = folder\n",
    "trainer.output_folder_base = folder\n",
    "trainer.update_fold(0)\n",
    "trainer.initialize(False)\n",
    "all_best_model_files = [join(i, \"%s.model\" % checkpoint_name) for i in folds]\n",
    "print(\"using the following model files: \", all_best_model_files)\n",
    "all_params = [torch.load(i, map_location=torch.device('cpu')) for i in all_best_model_files]"
   ]
  },
  {
   "cell_type": "code",
   "execution_count": 5,
   "id": "90444683-dc90-4bcb-bad3-ce0db0a66be8",
   "metadata": {},
   "outputs": [],
   "source": [
    "from nnunet.training.model_restore import restore_model"
   ]
  },
  {
   "cell_type": "code",
   "execution_count": 6,
   "id": "b0dae9da-95a4-4752-971b-36acd03394e1",
   "metadata": {},
   "outputs": [],
   "source": [
    "import torch"
   ]
  },
  {
   "cell_type": "code",
   "execution_count": 32,
   "id": "fe9e00e6-2782-4fb5-b03b-b687c7cac0f1",
   "metadata": {},
   "outputs": [
    {
     "name": "stdout",
     "output_type": "stream",
     "text": [
      "30\n"
     ]
    }
   ],
   "source": [
    "print(len(checkpoints_multi_modal))"
   ]
  },
  {
   "cell_type": "code",
   "execution_count": 9,
   "id": "61ad74fe-b898-40de-a4c2-c9b5adb288fe",
   "metadata": {},
   "outputs": [
    {
     "name": "stdout",
     "output_type": "stream",
     "text": [
      "('/home/annalena/Seminar_Medical_Image_Analysis/code/data/nnUNet_preprocessed/Task500_ACDC/nnUNetPlansv2.1_bs20_plans_2D.pkl', 0, '/home/annalena/Seminar_Medical_Image_Analysis/code/nnUNet_trained_models/nnUNet/2d/Task500_ACDC/nnUNetTrainerV2_SGD_fixedSchedule_Zhao2022__nnUNetPlansv2.1_bs20', '/home/annalena/Seminar_Medical_Image_Analysis/code/data/nnUNet_preprocessed/Task500_ACDC', True, 0, True, False, True) nnUNetTrainerV2_SGD_fixedSchedule_Zhao2022\n"
     ]
    }
   ],
   "source": [
    "pkl_file = \"/home/annalena/Seminar_Medical_Image_Analysis/code/nnUNet_trained_models/nnUNet/2d/Task500_ACDC/nnUNetTrainerV2_SGD_fixedSchedule_Zhao2022__nnUNetPlansv2.1_bs20/fold_0/\"+checkpoints_multi_modal[0]+\".model.pkl\"\n",
    "info = load_pickle(pkl_file)\n",
    "init = info['init']\n",
    "name = info['name']\n",
    "print(init, name)"
   ]
  },
  {
   "cell_type": "code",
   "execution_count": 7,
   "id": "a4f96c70-c5ec-4933-92ff-cf4182010fc5",
   "metadata": {},
   "outputs": [
    {
     "name": "stdout",
     "output_type": "stream",
     "text": [
      "2023-03-08 14:41:18.769994: loading checkpoint /home/annalena/Seminar_Medical_Image_Analysis/code/nnUNet_trained_models/nnUNet/2d/Task500_ACDC/nnUNetTrainerV2_SGD_fixedSchedule_Zhao2022__nnUNetPlansv2.1_bs20/fold_0/model_ep_391.model train= False\n",
      "29508192\n"
     ]
    }
   ],
   "source": [
    "# pkl file of the model\n",
    "pkl = \"/home/annalena/Seminar_Medical_Image_Analysis/code/nnUNet_trained_models/nnUNet/2d/Task500_ACDC/nnUNetTrainerV2_SGD_fixedSchedule_Zhao2022__nnUNetPlansv2.1_bs20/fold_0/\"+checkpoints_multi_modal[0]+\".model.pkl\"\n",
    "checkpoint = pkl[:-4]\n",
    "train = False\n",
    "\n",
    "# find trainer class of one model.pkl and checkpoint\n",
    "trainer = restore_model(pkl, checkpoint, train)\n",
    "len_weights = 0\n",
    "#t = torch.empty()\n",
    "\n",
    "# get number of weights in the network\n",
    "for param in trainer.network.parameters():\n",
    "    len_weights += int(param.flatten().size(dim=0))\n",
    "    #t.cat(param)\n",
    "print(len_weights)\n"
   ]
  },
  {
   "cell_type": "code",
   "execution_count": 10,
   "id": "6d407713-b375-4f18-90b6-fd3141a8a6fa",
   "metadata": {},
   "outputs": [
    {
     "name": "stdout",
     "output_type": "stream",
     "text": [
      "2023-03-08 15:20:25.359621: loading checkpoint /home/annalena/Seminar_Medical_Image_Analysis/code/nnUNet_trained_models/nnUNet/2d/Task500_ACDC/nnUNetTrainerV2_SGD_fixedSchedule_Zhao2022__nnUNetPlansv2.1_bs20/fold_0/model_ep_799.model train= False\n",
      "0\n",
      "2023-03-08 15:20:26.377821: loading checkpoint /home/annalena/Seminar_Medical_Image_Analysis/code/nnUNet_trained_models/nnUNet/2d/Task500_ACDC/nnUNetTrainerV2_SGD_fixedSchedule_Zhao2022__nnUNetPlansv2.1_bs20/fold_0/model_ep_1180.model train= False\n",
      "0\n",
      "2023-03-08 15:20:27.320598: loading checkpoint /home/annalena/Seminar_Medical_Image_Analysis/code/nnUNet_trained_models/nnUNet/2d/Task500_ACDC/nnUNetTrainerV2_SGD_fixedSchedule_Zhao2022__nnUNetPlansv2.1_bs20/fold_0/model_ep_1193.model train= False\n",
      "0\n",
      "2023-03-08 15:20:28.254531: loading checkpoint /home/annalena/Seminar_Medical_Image_Analysis/code/nnUNet_trained_models/nnUNet/2d/Task500_ACDC/nnUNetTrainerV2_SGD_fixedSchedule_Zhao2022__nnUNetPlansv2.1_bs20/fold_0/model_ep_1173.model train= False\n",
      "0\n",
      "2023-03-08 15:20:29.156582: loading checkpoint /home/annalena/Seminar_Medical_Image_Analysis/code/nnUNet_trained_models/nnUNet/2d/Task500_ACDC/nnUNetTrainerV2_SGD_fixedSchedule_Zhao2022__nnUNetPlansv2.1_bs20/fold_0/model_ep_1185.model train= False\n",
      "0\n",
      "2023-03-08 15:20:30.069235: loading checkpoint /home/annalena/Seminar_Medical_Image_Analysis/code/nnUNet_trained_models/nnUNet/2d/Task500_ACDC/nnUNetTrainerV2_SGD_fixedSchedule_Zhao2022__nnUNetPlansv2.1_bs20/fold_0/model_ep_1172.model train= False\n",
      "0\n",
      "2023-03-08 15:20:30.979892: loading checkpoint /home/annalena/Seminar_Medical_Image_Analysis/code/nnUNet_trained_models/nnUNet/2d/Task500_ACDC/nnUNetTrainerV2_SGD_fixedSchedule_Zhao2022__nnUNetPlansv2.1_bs20/fold_0/model_ep_796.model train= False\n",
      "0\n",
      "2023-03-08 15:20:31.888236: loading checkpoint /home/annalena/Seminar_Medical_Image_Analysis/code/nnUNet_trained_models/nnUNet/2d/Task500_ACDC/nnUNetTrainerV2_SGD_fixedSchedule_Zhao2022__nnUNetPlansv2.1_bs20/fold_0/model_ep_1188.model train= False\n",
      "0\n",
      "2023-03-08 15:20:32.762617: loading checkpoint /home/annalena/Seminar_Medical_Image_Analysis/code/nnUNet_trained_models/nnUNet/2d/Task500_ACDC/nnUNetTrainerV2_SGD_fixedSchedule_Zhao2022__nnUNetPlansv2.1_bs20/fold_0/model_ep_1198.model train= False\n",
      "0\n",
      "2023-03-08 15:20:33.664979: loading checkpoint /home/annalena/Seminar_Medical_Image_Analysis/code/nnUNet_trained_models/nnUNet/2d/Task500_ACDC/nnUNetTrainerV2_SGD_fixedSchedule_Zhao2022__nnUNetPlansv2.1_bs20/fold_0/model_ep_794.model train= False\n",
      "0\n",
      "2023-03-08 15:20:34.551079: loading checkpoint /home/annalena/Seminar_Medical_Image_Analysis/code/nnUNet_trained_models/nnUNet/2d/Task500_ACDC/nnUNetTrainerV2_SGD_fixedSchedule_Zhao2022__nnUNetPlansv2.1_bs20/fold_0/model_ep_400.model train= False\n",
      "0\n",
      "2023-03-08 15:20:35.435976: loading checkpoint /home/annalena/Seminar_Medical_Image_Analysis/code/nnUNet_trained_models/nnUNet/2d/Task500_ACDC/nnUNetTrainerV2_SGD_fixedSchedule_Zhao2022__nnUNetPlansv2.1_bs20/fold_0/model_ep_1175.model train= False\n",
      "0\n",
      "2023-03-08 15:20:36.395129: loading checkpoint /home/annalena/Seminar_Medical_Image_Analysis/code/nnUNet_trained_models/nnUNet/2d/Task500_ACDC/nnUNetTrainerV2_SGD_fixedSchedule_Zhao2022__nnUNetPlansv2.1_bs20/fold_0/model_ep_1194.model train= False\n",
      "0\n",
      "2023-03-08 15:20:37.298716: loading checkpoint /home/annalena/Seminar_Medical_Image_Analysis/code/nnUNet_trained_models/nnUNet/2d/Task500_ACDC/nnUNetTrainerV2_SGD_fixedSchedule_Zhao2022__nnUNetPlansv2.1_bs20/fold_0/model_ep_1199.model train= False\n",
      "0\n",
      "2023-03-08 15:20:38.214264: loading checkpoint /home/annalena/Seminar_Medical_Image_Analysis/code/nnUNet_trained_models/nnUNet/2d/Task500_ACDC/nnUNetTrainerV2_SGD_fixedSchedule_Zhao2022__nnUNetPlansv2.1_bs20/fold_0/model_ep_1189.model train= False\n",
      "0\n",
      "2023-03-08 15:20:39.101325: loading checkpoint /home/annalena/Seminar_Medical_Image_Analysis/code/nnUNet_trained_models/nnUNet/2d/Task500_ACDC/nnUNetTrainerV2_SGD_fixedSchedule_Zhao2022__nnUNetPlansv2.1_bs20/fold_0/model_ep_1195.model train= False\n",
      "0\n",
      "2023-03-08 15:20:40.002469: loading checkpoint /home/annalena/Seminar_Medical_Image_Analysis/code/nnUNet_trained_models/nnUNet/2d/Task500_ACDC/nnUNetTrainerV2_SGD_fixedSchedule_Zhao2022__nnUNetPlansv2.1_bs20/fold_0/model_ep_791.model train= False\n",
      "0\n",
      "2023-03-08 15:20:40.886234: loading checkpoint /home/annalena/Seminar_Medical_Image_Analysis/code/nnUNet_trained_models/nnUNet/2d/Task500_ACDC/nnUNetTrainerV2_SGD_fixedSchedule_Zhao2022__nnUNetPlansv2.1_bs20/fold_0/model_ep_795.model train= False\n",
      "0\n",
      "2023-03-08 15:20:41.767663: loading checkpoint /home/annalena/Seminar_Medical_Image_Analysis/code/nnUNet_trained_models/nnUNet/2d/Task500_ACDC/nnUNetTrainerV2_SGD_fixedSchedule_Zhao2022__nnUNetPlansv2.1_bs20/fold_0/model_ep_792.model train= False\n",
      "0\n",
      "2023-03-08 15:20:42.682056: loading checkpoint /home/annalena/Seminar_Medical_Image_Analysis/code/nnUNet_trained_models/nnUNet/2d/Task500_ACDC/nnUNetTrainerV2_SGD_fixedSchedule_Zhao2022__nnUNetPlansv2.1_bs20/fold_0/model_ep_391.model train= False\n",
      "0\n",
      "2023-03-08 15:20:43.633520: loading checkpoint /home/annalena/Seminar_Medical_Image_Analysis/code/nnUNet_trained_models/nnUNet/2d/Task500_ACDC/nnUNetTrainerV2_SGD_fixedSchedule_Zhao2022__nnUNetPlansv2.1_bs20/fold_0/model_ep_1176.model train= False\n",
      "0\n",
      "2023-03-08 15:20:44.545733: loading checkpoint /home/annalena/Seminar_Medical_Image_Analysis/code/nnUNet_trained_models/nnUNet/2d/Task500_ACDC/nnUNetTrainerV2_SGD_fixedSchedule_Zhao2022__nnUNetPlansv2.1_bs20/fold_0/model_ep_399.model train= False\n",
      "0\n",
      "2023-03-08 15:20:45.448173: loading checkpoint /home/annalena/Seminar_Medical_Image_Analysis/code/nnUNet_trained_models/nnUNet/2d/Task500_ACDC/nnUNetTrainerV2_SGD_fixedSchedule_Zhao2022__nnUNetPlansv2.1_bs20/fold_0/model_ep_396.model train= False\n",
      "0\n",
      "2023-03-08 15:20:46.349527: loading checkpoint /home/annalena/Seminar_Medical_Image_Analysis/code/nnUNet_trained_models/nnUNet/2d/Task500_ACDC/nnUNetTrainerV2_SGD_fixedSchedule_Zhao2022__nnUNetPlansv2.1_bs20/fold_0/model_ep_793.model train= False\n",
      "0\n",
      "2023-03-08 15:20:47.257176: loading checkpoint /home/annalena/Seminar_Medical_Image_Analysis/code/nnUNet_trained_models/nnUNet/2d/Task500_ACDC/nnUNetTrainerV2_SGD_fixedSchedule_Zhao2022__nnUNetPlansv2.1_bs20/fold_0/model_ep_1191.model train= False\n",
      "0\n",
      "2023-03-08 15:20:48.142722: loading checkpoint /home/annalena/Seminar_Medical_Image_Analysis/code/nnUNet_trained_models/nnUNet/2d/Task500_ACDC/nnUNetTrainerV2_SGD_fixedSchedule_Zhao2022__nnUNetPlansv2.1_bs20/fold_0/model_ep_398.model train= False\n",
      "0\n",
      "2023-03-08 15:20:49.026153: loading checkpoint /home/annalena/Seminar_Medical_Image_Analysis/code/nnUNet_trained_models/nnUNet/2d/Task500_ACDC/nnUNetTrainerV2_SGD_fixedSchedule_Zhao2022__nnUNetPlansv2.1_bs20/fold_0/model_ep_1200.model train= False\n",
      "0\n",
      "2023-03-08 15:20:49.919334: loading checkpoint /home/annalena/Seminar_Medical_Image_Analysis/code/nnUNet_trained_models/nnUNet/2d/Task500_ACDC/nnUNetTrainerV2_SGD_fixedSchedule_Zhao2022__nnUNetPlansv2.1_bs20/fold_0/model_ep_1186.model train= False\n",
      "0\n",
      "2023-03-08 15:20:50.808529: loading checkpoint /home/annalena/Seminar_Medical_Image_Analysis/code/nnUNet_trained_models/nnUNet/2d/Task500_ACDC/nnUNetTrainerV2_SGD_fixedSchedule_Zhao2022__nnUNetPlansv2.1_bs20/fold_0/model_ep_1179.model train= False\n",
      "0\n",
      "2023-03-08 15:20:51.701571: loading checkpoint /home/annalena/Seminar_Medical_Image_Analysis/code/nnUNet_trained_models/nnUNet/2d/Task500_ACDC/nnUNetTrainerV2_SGD_fixedSchedule_Zhao2022__nnUNetPlansv2.1_bs20/fold_0/model_ep_393.model train= False\n",
      "0\n",
      "2023-03-08 15:20:52.593171: loading checkpoint /home/annalena/Seminar_Medical_Image_Analysis/code/nnUNet_trained_models/nnUNet/2d/Task500_ACDC/nnUNetTrainerV2_SGD_fixedSchedule_Zhao2022__nnUNetPlansv2.1_bs20/fold_0/model_ep_397.model train= False\n",
      "0\n",
      "2023-03-08 15:20:53.473301: loading checkpoint /home/annalena/Seminar_Medical_Image_Analysis/code/nnUNet_trained_models/nnUNet/2d/Task500_ACDC/nnUNetTrainerV2_SGD_fixedSchedule_Zhao2022__nnUNetPlansv2.1_bs20/fold_0/model_ep_800.model train= False\n",
      "0\n",
      "2023-03-08 15:20:54.435799: loading checkpoint /home/annalena/Seminar_Medical_Image_Analysis/code/nnUNet_trained_models/nnUNet/2d/Task500_ACDC/nnUNetTrainerV2_SGD_fixedSchedule_Zhao2022__nnUNetPlansv2.1_bs20/fold_0/model_ep_1192.model train= False\n",
      "0\n",
      "2023-03-08 15:20:55.322153: loading checkpoint /home/annalena/Seminar_Medical_Image_Analysis/code/nnUNet_trained_models/nnUNet/2d/Task500_ACDC/nnUNetTrainerV2_SGD_fixedSchedule_Zhao2022__nnUNetPlansv2.1_bs20/fold_0/model_ep_392.model train= False\n",
      "0\n",
      "2023-03-08 15:20:56.204756: loading checkpoint /home/annalena/Seminar_Medical_Image_Analysis/code/nnUNet_trained_models/nnUNet/2d/Task500_ACDC/nnUNetTrainerV2_SGD_fixedSchedule_Zhao2022__nnUNetPlansv2.1_bs20/fold_0/model_ep_1171.model train= False\n",
      "0\n",
      "2023-03-08 15:20:57.097830: loading checkpoint /home/annalena/Seminar_Medical_Image_Analysis/code/nnUNet_trained_models/nnUNet/2d/Task500_ACDC/nnUNetTrainerV2_SGD_fixedSchedule_Zhao2022__nnUNetPlansv2.1_bs20/fold_0/model_ep_1178.model train= False\n",
      "0\n",
      "2023-03-08 15:20:57.985218: loading checkpoint /home/annalena/Seminar_Medical_Image_Analysis/code/nnUNet_trained_models/nnUNet/2d/Task500_ACDC/nnUNetTrainerV2_SGD_fixedSchedule_Zhao2022__nnUNetPlansv2.1_bs20/fold_0/model_ep_1187.model train= False\n",
      "0\n",
      "2023-03-08 15:20:58.878091: loading checkpoint /home/annalena/Seminar_Medical_Image_Analysis/code/nnUNet_trained_models/nnUNet/2d/Task500_ACDC/nnUNetTrainerV2_SGD_fixedSchedule_Zhao2022__nnUNetPlansv2.1_bs20/fold_0/model_ep_1182.model train= False\n",
      "0\n",
      "2023-03-08 15:20:59.767149: loading checkpoint /home/annalena/Seminar_Medical_Image_Analysis/code/nnUNet_trained_models/nnUNet/2d/Task500_ACDC/nnUNetTrainerV2_SGD_fixedSchedule_Zhao2022__nnUNetPlansv2.1_bs20/fold_0/model_ep_1181.model train= False\n",
      "0\n",
      "2023-03-08 15:21:00.652835: loading checkpoint /home/annalena/Seminar_Medical_Image_Analysis/code/nnUNet_trained_models/nnUNet/2d/Task500_ACDC/nnUNetTrainerV2_SGD_fixedSchedule_Zhao2022__nnUNetPlansv2.1_bs20/fold_0/model_ep_1177.model train= False\n",
      "0\n",
      "2023-03-08 15:21:01.537616: loading checkpoint /home/annalena/Seminar_Medical_Image_Analysis/code/nnUNet_trained_models/nnUNet/2d/Task500_ACDC/nnUNetTrainerV2_SGD_fixedSchedule_Zhao2022__nnUNetPlansv2.1_bs20/fold_0/model_ep_1184.model train= False\n",
      "0\n",
      "2023-03-08 15:21:02.430882: loading checkpoint /home/annalena/Seminar_Medical_Image_Analysis/code/nnUNet_trained_models/nnUNet/2d/Task500_ACDC/nnUNetTrainerV2_SGD_fixedSchedule_Zhao2022__nnUNetPlansv2.1_bs20/fold_0/model_ep_1196.model train= False\n",
      "0\n",
      "2023-03-08 15:21:03.316590: loading checkpoint /home/annalena/Seminar_Medical_Image_Analysis/code/nnUNet_trained_models/nnUNet/2d/Task500_ACDC/nnUNetTrainerV2_SGD_fixedSchedule_Zhao2022__nnUNetPlansv2.1_bs20/fold_0/model_ep_797.model train= False\n",
      "0\n",
      "2023-03-08 15:21:04.221839: loading checkpoint /home/annalena/Seminar_Medical_Image_Analysis/code/nnUNet_trained_models/nnUNet/2d/Task500_ACDC/nnUNetTrainerV2_SGD_fixedSchedule_Zhao2022__nnUNetPlansv2.1_bs20/fold_0/model_ep_1197.model train= False\n",
      "0\n",
      "2023-03-08 15:21:05.115030: loading checkpoint /home/annalena/Seminar_Medical_Image_Analysis/code/nnUNet_trained_models/nnUNet/2d/Task500_ACDC/nnUNetTrainerV2_SGD_fixedSchedule_Zhao2022__nnUNetPlansv2.1_bs20/fold_0/model_ep_1183.model train= False\n",
      "0\n",
      "2023-03-08 15:21:06.008032: loading checkpoint /home/annalena/Seminar_Medical_Image_Analysis/code/nnUNet_trained_models/nnUNet/2d/Task500_ACDC/nnUNetTrainerV2_SGD_fixedSchedule_Zhao2022__nnUNetPlansv2.1_bs20/fold_0/model_ep_798.model train= False\n",
      "0\n",
      "2023-03-08 15:21:06.893126: loading checkpoint /home/annalena/Seminar_Medical_Image_Analysis/code/nnUNet_trained_models/nnUNet/2d/Task500_ACDC/nnUNetTrainerV2_SGD_fixedSchedule_Zhao2022__nnUNetPlansv2.1_bs20/fold_0/model_ep_1174.model train= False\n",
      "0\n",
      "2023-03-08 15:21:07.778891: loading checkpoint /home/annalena/Seminar_Medical_Image_Analysis/code/nnUNet_trained_models/nnUNet/2d/Task500_ACDC/nnUNetTrainerV2_SGD_fixedSchedule_Zhao2022__nnUNetPlansv2.1_bs20/fold_0/model_ep_1190.model train= False\n",
      "0\n",
      "2023-03-08 15:21:08.669781: loading checkpoint /home/annalena/Seminar_Medical_Image_Analysis/code/nnUNet_trained_models/nnUNet/2d/Task500_ACDC/nnUNetTrainerV2_SGD_fixedSchedule_Zhao2022__nnUNetPlansv2.1_bs20/fold_0/model_ep_395.model train= False\n",
      "0\n",
      "2023-03-08 15:21:09.562711: loading checkpoint /home/annalena/Seminar_Medical_Image_Analysis/code/nnUNet_trained_models/nnUNet/2d/Task500_ACDC/nnUNetTrainerV2_SGD_fixedSchedule_Zhao2022__nnUNetPlansv2.1_bs20/fold_0/model_ep_394.model train= False\n",
      "0\n"
     ]
    }
   ],
   "source": [
    "# collect all weights of checkpoints in one tensor\n",
    "flat_weights = torch.empty((len(checkpoints_all), len_weights ))\n",
    "for i in range(len(checkpoints_all)):  \n",
    "    pkl = \"/home/annalena/Seminar_Medical_Image_Analysis/code/nnUNet_trained_models/nnUNet/2d/Task500_ACDC/nnUNetTrainerV2_SGD_fixedSchedule_Zhao2022__nnUNetPlansv2.1_bs20/fold_0/\"+checkpoints_all[i]+\".model.pkl\"\n",
    "    checkpoint = pkl[:-4]\n",
    "    train = False\n",
    "    trainer = restore_model(pkl, checkpoint, train)\n",
    "    #t = torch.empty()\n",
    "    helper = 0\n",
    "    for param in trainer.network.parameters():\n",
    "        l = int(param.flatten().size(dim=0))\n",
    "        flat_weights[i, helper:helper+l] = param.flatten()\n",
    "        helper += l\n",
    "    print(helper - len_weights)\n",
    "\n",
    "    "
   ]
  },
  {
   "cell_type": "code",
   "execution_count": 11,
   "id": "6d910c1d-533d-4aca-9691-df4c1868841e",
   "metadata": {},
   "outputs": [
    {
     "data": {
      "text/plain": [
       "array([1, 2, 3])"
      ]
     },
     "execution_count": 11,
     "metadata": {},
     "output_type": "execute_result"
    }
   ],
   "source": [
    "int_checkpoints_all = [int(cp[-4:].replace('_', '')) for cp in checkpoints_all]\n",
    "colors_checkpoints_all = []\n",
    "for check in int_checkpoints_all:\n",
    "    if check <= 400:\n",
    "        colors_checkpoints_all.append(1)\n",
    "    elif check <= 800:\n",
    "        colors_checkpoints_all.append(2)\n",
    "    elif check <= 1200:\n",
    "        colors_checkpoints_all.append(3)\n",
    "np.unique(colors_checkpoints_all)"
   ]
  },
  {
   "cell_type": "code",
   "execution_count": 18,
   "id": "4afdde74-8627-4944-81a7-3176ae07dc6e",
   "metadata": {},
   "outputs": [
    {
     "name": "stdout",
     "output_type": "stream",
     "text": [
      "a 10 400\n",
      "b 16 791\n",
      "c 31 800\n",
      "d 34 1171\n"
     ]
    }
   ],
   "source": [
    "# which checkpoint id corresponds to the jumps\n",
    "# jump from a to b and c to d\n",
    "for i, check in enumerate(int_checkpoints_all):\n",
    "    if check == 400:\n",
    "        print(\"a\", i, check)\n",
    "        a = i\n",
    "    if check == 800-9:\n",
    "        print(\"b\", i, check)\n",
    "        b = i\n",
    "    if check == 800:\n",
    "        print(\"c\", i, check)\n",
    "        c = i\n",
    "    if check == 1200-29:\n",
    "        print(\"d\", i, check)\n",
    "        d = i"
   ]
  },
  {
   "cell_type": "code",
   "execution_count": 13,
   "id": "67735d7e-3822-4687-a90d-5581468286bd",
   "metadata": {},
   "outputs": [],
   "source": [
    "import umap.umap_ as umap"
   ]
  },
  {
   "cell_type": "code",
   "execution_count": 14,
   "id": "58a1914e-e11d-4642-9002-12c97214879c",
   "metadata": {},
   "outputs": [],
   "source": [
    "import matplotlib.pyplot as plt\n",
    "%matplotlib inline"
   ]
  },
  {
   "cell_type": "code",
   "execution_count": 47,
   "id": "d0390bea-caa8-4786-920a-69034264fecf",
   "metadata": {},
   "outputs": [],
   "source": [
    "from datetime import *"
   ]
  },
  {
   "cell_type": "code",
   "execution_count": 52,
   "id": "f856e615-5ed8-4f05-b5c6-479193419d15",
   "metadata": {},
   "outputs": [],
   "source": [
    "colored_epochs = [0.7]*10+[2]*10+[3]*10"
   ]
  },
  {
   "cell_type": "code",
   "execution_count": 50,
   "id": "5e8a5e85-2382-4feb-8ccd-2f5a83a3caf6",
   "metadata": {},
   "outputs": [],
   "source": [
    "fit = umap.UMAP(n_neighbors = 10, min_dist = 0.7)\n",
    "u = fit.fit_transform(flat_weights.detach().numpy())"
   ]
  },
  {
   "cell_type": "code",
   "execution_count": 62,
   "id": "1d300313-7690-455c-86c9-0284c91793b4",
   "metadata": {},
   "outputs": [
    {
     "data": {
      "image/png": "[encoded data removed]",
      "text/plain": [
       "<Figure size 640x480 with 1 Axes>"
      ]
     },
     "metadata": {},
     "output_type": "display_data"
    }
   ],
   "source": [
    "fig, ax = plt.subplots()\n",
    "ax.scatter(u[:,0], u[:,1], c=colors_checkpoints_all)\n",
    "for i, txt in enumerate(int_checkpoints_all):\n",
    "    ax.annotate(str(txt), (u[i,0], u[i,1]), fontsize=5)\n",
    "x_values = [u[a,0], u[b,0]]\n",
    "y_values = [u[a,1], u[b,1]]\n",
    "ax.plot(x_values, y_values, linestyle=\"--\", c = 'black')\n",
    "x_values2 = [u[c,0], u[d,0]]\n",
    "y_values2 = [u[c,1], u[d,1]]\n",
    "ax.plot(x_values2, y_values2, linestyle=\"--\", c = 'black')\n",
    "#plt.axis('off')\n",
    "plt.savefig(\"plots/SGD_umap_{0}\".format(datetime.now().strftime(\"%Y-%m-%d_%H%M%S\")))\n",
    "plt.show()"
   ]
  },
  {
   "cell_type": "code",
   "execution_count": 29,
   "id": "4b44eb5f-f93a-403b-bf1d-599832ea6068",
   "metadata": {},
   "outputs": [],
   "source": [
    "from sklearn.decomposition import PCA"
   ]
  },
  {
   "cell_type": "code",
   "execution_count": 36,
   "id": "f9aa245b-7b9b-4fea-a889-df364c6fb6fe",
   "metadata": {},
   "outputs": [],
   "source": [
    "import pandas as pd"
   ]
  },
  {
   "cell_type": "code",
   "execution_count": 39,
   "id": "40cc8e52-1dbd-49a1-83dc-4d46c5253707",
   "metadata": {},
   "outputs": [],
   "source": [
    "pca = PCA(n_components=2)\n",
    "pca_weights = pca.fit_transform(flat_weights.detach().numpy())"
   ]
  },
  {
   "cell_type": "code",
   "execution_count": 60,
   "id": "e3113742-0efd-4033-8950-c4390723bef8",
   "metadata": {},
   "outputs": [],
   "source": [
    "def plot_weights(u):\n",
    "    fig, ax = plt.subplots()\n",
    "    cmap = plt.cm.viridis\n",
    "    ax.scatter(u[:,0], u[:,1], c=colors_checkpoints_all, alpha=0.1, cmap=cmap)\n",
    "    #for i, txt in enumerate(int_checkpoints_all):\n",
    "        #ax.annotate(str(txt), (u[i,0], u[i,1]), fontsize=5)\n",
    "    x_values = [u[a,0], u[b,0]]\n",
    "    y_values = [u[a,1], u[b,1]]\n",
    "    #ax.plot(x_values, y_values, linestyle=\"--\", c = 'black')\n",
    "    x_values2 = [u[c,0], u[d,0]]\n",
    "    y_values2 = [u[c,1], u[d,1]]\n",
    "    #ax.plot(x_values2, y_values2, linestyle=\"--\", c = 'black')\n",
    "    #plt.axis('off')\n",
    "    plt.savefig(\"plots/SGD_pca_{0}\".format(datetime.now().strftime(\"%Y-%m-%d_%H%M%S\")))\n",
    "    plt.show()"
   ]
  },
  {
   "cell_type": "code",
   "execution_count": 61,
   "id": "ebb681ed-9c39-4e66-815f-b34173506068",
   "metadata": {},
   "outputs": [
    {
     "data": {
      "image/png": "[encoded data removed]",
      "text/plain": [
       "<Figure size 640x480 with 1 Axes>"
      ]
     },
     "metadata": {},
     "output_type": "display_data"
    }
   ],
   "source": [
    "plot_weights(pca_weights)"
   ]
  },
  {
   "cell_type": "code",
   "execution_count": 98,
   "id": "80d48820-7dda-4304-8e42-723417f2af19",
   "metadata": {},
   "outputs": [],
   "source": [
    "from sklearn.manifold import TSNE\n"
   ]
  },
  {
   "cell_type": "code",
   "execution_count": 119,
   "id": "abd0e321-975f-4437-a26f-4e95a7522c50",
   "metadata": {},
   "outputs": [
    {
     "name": "stderr",
     "output_type": "stream",
     "text": [
      "/home/annalena/miniconda3/envs/myenv/lib/python3.9/site-packages/sklearn/manifold/_t_sne.py:810: FutureWarning: The default learning rate in TSNE will change from 200.0 to 'auto' in 1.2.\n",
      "  warnings.warn(\n"
     ]
    }
   ],
   "source": [
    "tsne = TSNE(perplexity = 6, init='random')\n",
    "tsne_projections = tsne.fit_transform(flat_weights.detach().numpy())"
   ]
  },
  {
   "cell_type": "code",
   "execution_count": 120,
   "id": "022a632e-775b-4210-8482-820f3c01c5e1",
   "metadata": {},
   "outputs": [
    {
     "data": {
      "image/png": "[encoded data removed]",
      "text/plain": [
       "<Figure size 640x480 with 1 Axes>"
      ]
     },
     "metadata": {},
     "output_type": "display_data"
    }
   ],
   "source": [
    "plt.scatter(tsne_projections[:,0], tsne_projections[:,1], c=colors_checkpoints_all)\n",
    "plt.show()"
   ]
  },
  {
   "cell_type": "markdown",
   "id": "d9d57414-53e4-42cd-935b-cfb8956194ed",
   "metadata": {},
   "source": [
    "# Adam"
   ]
  },
  {
   "cell_type": "code",
   "execution_count": 64,
   "id": "5f704d94-a81b-4c26-86f6-db8bf43f96f8",
   "metadata": {},
   "outputs": [],
   "source": [
    "base = \"/home/annalena/Seminar_Medical_Image_Analysis/code/\"\n",
    "input_folder = \"/home/annalena/Seminar_Medical_Image_Analysis/code/data/nnUNet_raw_data_base/nnUNet_raw_data/Task679_mnm/imagesTr/\"\n",
    "checkpoint_prediction_folder = \"nnUNet_trained_models/nnUNet/2d/Task500_ACDC/nnUNetTrainerV2_Adam_fixedSchedule_Zhao2022_beta__nnUNetPlansv2.1_bs08/prediction_Task679_mnm/\"\n",
    "\n",
    "model = base + \"nnUNet_trained_models/nnUNet/2d/Task500_ACDC/nnUNetTrainerV2_Adam_fixedSchedule_Zhao2022_beta__nnUNetPlansv2.1_bs08/\"\n",
    "folds = (0, ) # or None\n",
    "save_npz = True\n",
    "\n",
    "# default values - see documentation\n",
    "num_parts = 1\n",
    "part_id = 0 \n",
    "\n",
    "# checkpoint list\n",
    "max_cycles = 3\n",
    "max_num_epochs = 120\n",
    "max_num_epochs_per_cycle = int(max_num_epochs / max_cycles)\n",
    "save_last_x_checkpoints_per_cycle = 10\n",
    "\n",
    "checkpoints_multi_modal = [\"model_ep_%03.0d\" % (epoch + 1) for epoch in range(max_num_epochs) if max_num_epochs_per_cycle - (epoch % max_num_epochs_per_cycle) <= save_last_x_checkpoints_per_cycle]\n",
    "checkpoints_single_modal = [\"model_ep_%03.0d\" % (epoch + 1) for epoch in range(max_num_epochs - save_last_x_checkpoints_per_cycle * max_cycles, max_num_epochs)]\n",
    "checkpoints_all = list(set(checkpoints_multi_modal + checkpoints_single_modal))\n"
   ]
  },
  {
   "cell_type": "code",
   "execution_count": 65,
   "id": "70d084de-2195-45e4-a18b-8ba112abc1f7",
   "metadata": {},
   "outputs": [
    {
     "name": "stdout",
     "output_type": "stream",
     "text": [
      "('/home/annalena/Seminar_Medical_Image_Analysis/code/data/nnUNet_preprocessed/Task500_ACDC/nnUNetPlansv2.1_bs08_plans_2D.pkl', 0, '/home/annalena/Seminar_Medical_Image_Analysis/code/nnUNet_trained_models/nnUNet/2d/Task500_ACDC/nnUNetTrainerV2_Adam_fixedSchedule_Zhao2022_beta__nnUNetPlansv2.1_bs08', '/home/annalena/Seminar_Medical_Image_Analysis/code/data/nnUNet_preprocessed/Task500_ACDC', True, 0, True, False, False) nnUNetTrainerV2_Adam_fixedSchedule_Zhao2022_beta\n"
     ]
    }
   ],
   "source": [
    "pkl_file = \"/home/annalena/Seminar_Medical_Image_Analysis/code/nnUNet_trained_models/nnUNet/2d/Task500_ACDC/nnUNetTrainerV2_Adam_fixedSchedule_Zhao2022_beta__nnUNetPlansv2.1_bs08/fold_0/\"+checkpoints_multi_modal[0]+\".model.pkl\"\n",
    "info = load_pickle(pkl_file)\n",
    "init = info['init']\n",
    "name = info['name']\n",
    "print(init, name)"
   ]
  },
  {
   "cell_type": "code",
   "execution_count": 66,
   "id": "542ad200-4b89-470c-94fe-313061669b64",
   "metadata": {},
   "outputs": [
    {
     "name": "stdout",
     "output_type": "stream",
     "text": [
      "2023-03-09 10:17:37.838623: total nb epochs: 120 epoch per cycle:  40\n",
      "2023-03-09 10:17:37.839229: loading checkpoint /home/annalena/Seminar_Medical_Image_Analysis/code/nnUNet_trained_models/nnUNet/2d/Task500_ACDC/nnUNetTrainerV2_Adam_fixedSchedule_Zhao2022_beta__nnUNetPlansv2.1_bs08/fold_0/model_ep_031.model train= False\n",
      "29508192\n"
     ]
    }
   ],
   "source": [
    "# pkl file of the model\n",
    "pkl = \"/home/annalena/Seminar_Medical_Image_Analysis/code/nnUNet_trained_models/nnUNet/2d/Task500_ACDC/nnUNetTrainerV2_Adam_fixedSchedule_Zhao2022_beta__nnUNetPlansv2.1_bs08/fold_0/\"+checkpoints_multi_modal[0]+\".model.pkl\"\n",
    "checkpoint = pkl[:-4]\n",
    "train = False\n",
    "\n",
    "# find trainer class of one model.pkl and checkpoint\n",
    "trainer = restore_model(pkl, checkpoint, train)\n",
    "len_weights = 0\n",
    "#t = torch.empty()\n",
    "\n",
    "# get number of weights in the network\n",
    "for param in trainer.network.parameters():\n",
    "    len_weights += int(param.flatten().size(dim=0))\n",
    "    #t.cat(param)\n",
    "print(len_weights)"
   ]
  },
  {
   "cell_type": "code",
   "execution_count": 68,
   "id": "27839f5c-df19-4e85-bc39-9b122468fcce",
   "metadata": {},
   "outputs": [
    {
     "name": "stdout",
     "output_type": "stream",
     "text": [
      "2023-03-09 10:19:01.627637: total nb epochs: 120 epoch per cycle:  40\n",
      "2023-03-09 10:19:01.628242: loading checkpoint /home/annalena/Seminar_Medical_Image_Analysis/code/nnUNet_trained_models/nnUNet/2d/Task500_ACDC/nnUNetTrainerV2_Adam_fixedSchedule_Zhao2022_beta__nnUNetPlansv2.1_bs08/fold_0/model_ep_101.model train= False\n",
      "0\n",
      "2023-03-09 10:19:02.829850: total nb epochs: 120 epoch per cycle:  40\n",
      "2023-03-09 10:19:02.830099: loading checkpoint /home/annalena/Seminar_Medical_Image_Analysis/code/nnUNet_trained_models/nnUNet/2d/Task500_ACDC/nnUNetTrainerV2_Adam_fixedSchedule_Zhao2022_beta__nnUNetPlansv2.1_bs08/fold_0/model_ep_113.model train= False\n",
      "0\n",
      "2023-03-09 10:19:03.969939: total nb epochs: 120 epoch per cycle:  40\n",
      "2023-03-09 10:19:03.970185: loading checkpoint /home/annalena/Seminar_Medical_Image_Analysis/code/nnUNet_trained_models/nnUNet/2d/Task500_ACDC/nnUNetTrainerV2_Adam_fixedSchedule_Zhao2022_beta__nnUNetPlansv2.1_bs08/fold_0/model_ep_035.model train= False\n",
      "0\n",
      "2023-03-09 10:19:05.111845: total nb epochs: 120 epoch per cycle:  40\n",
      "2023-03-09 10:19:05.112079: loading checkpoint /home/annalena/Seminar_Medical_Image_Analysis/code/nnUNet_trained_models/nnUNet/2d/Task500_ACDC/nnUNetTrainerV2_Adam_fixedSchedule_Zhao2022_beta__nnUNetPlansv2.1_bs08/fold_0/model_ep_111.model train= False\n",
      "0\n",
      "2023-03-09 10:19:06.262497: total nb epochs: 120 epoch per cycle:  40\n",
      "2023-03-09 10:19:06.262729: loading checkpoint /home/annalena/Seminar_Medical_Image_Analysis/code/nnUNet_trained_models/nnUNet/2d/Task500_ACDC/nnUNetTrainerV2_Adam_fixedSchedule_Zhao2022_beta__nnUNetPlansv2.1_bs08/fold_0/model_ep_031.model train= False\n",
      "0\n",
      "2023-03-09 10:19:06.771700: total nb epochs: 120 epoch per cycle:  40\n",
      "2023-03-09 10:19:06.771955: loading checkpoint /home/annalena/Seminar_Medical_Image_Analysis/code/nnUNet_trained_models/nnUNet/2d/Task500_ACDC/nnUNetTrainerV2_Adam_fixedSchedule_Zhao2022_beta__nnUNetPlansv2.1_bs08/fold_0/model_ep_036.model train= False\n",
      "0\n",
      "2023-03-09 10:19:07.891382: total nb epochs: 120 epoch per cycle:  40\n",
      "2023-03-09 10:19:07.891654: loading checkpoint /home/annalena/Seminar_Medical_Image_Analysis/code/nnUNet_trained_models/nnUNet/2d/Task500_ACDC/nnUNetTrainerV2_Adam_fixedSchedule_Zhao2022_beta__nnUNetPlansv2.1_bs08/fold_0/model_ep_078.model train= False\n",
      "0\n",
      "2023-03-09 10:19:09.009613: total nb epochs: 120 epoch per cycle:  40\n",
      "2023-03-09 10:19:09.009862: loading checkpoint /home/annalena/Seminar_Medical_Image_Analysis/code/nnUNet_trained_models/nnUNet/2d/Task500_ACDC/nnUNetTrainerV2_Adam_fixedSchedule_Zhao2022_beta__nnUNetPlansv2.1_bs08/fold_0/model_ep_118.model train= False\n",
      "0\n",
      "2023-03-09 10:19:10.085081: total nb epochs: 120 epoch per cycle:  40\n",
      "2023-03-09 10:19:10.085388: loading checkpoint /home/annalena/Seminar_Medical_Image_Analysis/code/nnUNet_trained_models/nnUNet/2d/Task500_ACDC/nnUNetTrainerV2_Adam_fixedSchedule_Zhao2022_beta__nnUNetPlansv2.1_bs08/fold_0/model_ep_091.model train= False\n",
      "0\n",
      "2023-03-09 10:19:11.224392: total nb epochs: 120 epoch per cycle:  40\n",
      "2023-03-09 10:19:11.224620: loading checkpoint /home/annalena/Seminar_Medical_Image_Analysis/code/nnUNet_trained_models/nnUNet/2d/Task500_ACDC/nnUNetTrainerV2_Adam_fixedSchedule_Zhao2022_beta__nnUNetPlansv2.1_bs08/fold_0/model_ep_039.model train= False\n",
      "0\n",
      "2023-03-09 10:19:12.353542: total nb epochs: 120 epoch per cycle:  40\n",
      "2023-03-09 10:19:12.353769: loading checkpoint /home/annalena/Seminar_Medical_Image_Analysis/code/nnUNet_trained_models/nnUNet/2d/Task500_ACDC/nnUNetTrainerV2_Adam_fixedSchedule_Zhao2022_beta__nnUNetPlansv2.1_bs08/fold_0/model_ep_072.model train= False\n",
      "0\n",
      "2023-03-09 10:19:13.475997: total nb epochs: 120 epoch per cycle:  40\n",
      "2023-03-09 10:19:13.476242: loading checkpoint /home/annalena/Seminar_Medical_Image_Analysis/code/nnUNet_trained_models/nnUNet/2d/Task500_ACDC/nnUNetTrainerV2_Adam_fixedSchedule_Zhao2022_beta__nnUNetPlansv2.1_bs08/fold_0/model_ep_093.model train= False\n",
      "0\n",
      "2023-03-09 10:19:14.606703: total nb epochs: 120 epoch per cycle:  40\n",
      "2023-03-09 10:19:14.606928: loading checkpoint /home/annalena/Seminar_Medical_Image_Analysis/code/nnUNet_trained_models/nnUNet/2d/Task500_ACDC/nnUNetTrainerV2_Adam_fixedSchedule_Zhao2022_beta__nnUNetPlansv2.1_bs08/fold_0/model_ep_075.model train= False\n",
      "0\n",
      "2023-03-09 10:19:15.723603: total nb epochs: 120 epoch per cycle:  40\n",
      "2023-03-09 10:19:15.723833: loading checkpoint /home/annalena/Seminar_Medical_Image_Analysis/code/nnUNet_trained_models/nnUNet/2d/Task500_ACDC/nnUNetTrainerV2_Adam_fixedSchedule_Zhao2022_beta__nnUNetPlansv2.1_bs08/fold_0/model_ep_103.model train= False\n",
      "0\n",
      "2023-03-09 10:19:16.844170: total nb epochs: 120 epoch per cycle:  40\n",
      "2023-03-09 10:19:16.844409: loading checkpoint /home/annalena/Seminar_Medical_Image_Analysis/code/nnUNet_trained_models/nnUNet/2d/Task500_ACDC/nnUNetTrainerV2_Adam_fixedSchedule_Zhao2022_beta__nnUNetPlansv2.1_bs08/fold_0/model_ep_037.model train= False\n",
      "0\n",
      "2023-03-09 10:19:17.972924: total nb epochs: 120 epoch per cycle:  40\n",
      "2023-03-09 10:19:17.973168: loading checkpoint /home/annalena/Seminar_Medical_Image_Analysis/code/nnUNet_trained_models/nnUNet/2d/Task500_ACDC/nnUNetTrainerV2_Adam_fixedSchedule_Zhao2022_beta__nnUNetPlansv2.1_bs08/fold_0/model_ep_107.model train= False\n",
      "0\n",
      "2023-03-09 10:19:19.112632: total nb epochs: 120 epoch per cycle:  40\n",
      "2023-03-09 10:19:19.112862: loading checkpoint /home/annalena/Seminar_Medical_Image_Analysis/code/nnUNet_trained_models/nnUNet/2d/Task500_ACDC/nnUNetTrainerV2_Adam_fixedSchedule_Zhao2022_beta__nnUNetPlansv2.1_bs08/fold_0/model_ep_120.model train= False\n",
      "0\n",
      "2023-03-09 10:19:20.205261: total nb epochs: 120 epoch per cycle:  40\n",
      "2023-03-09 10:19:20.205503: loading checkpoint /home/annalena/Seminar_Medical_Image_Analysis/code/nnUNet_trained_models/nnUNet/2d/Task500_ACDC/nnUNetTrainerV2_Adam_fixedSchedule_Zhao2022_beta__nnUNetPlansv2.1_bs08/fold_0/model_ep_071.model train= False\n",
      "0\n",
      "2023-03-09 10:19:21.314717: total nb epochs: 120 epoch per cycle:  40\n",
      "2023-03-09 10:19:21.314944: loading checkpoint /home/annalena/Seminar_Medical_Image_Analysis/code/nnUNet_trained_models/nnUNet/2d/Task500_ACDC/nnUNetTrainerV2_Adam_fixedSchedule_Zhao2022_beta__nnUNetPlansv2.1_bs08/fold_0/model_ep_104.model train= False\n",
      "0\n",
      "2023-03-09 10:19:22.430755: total nb epochs: 120 epoch per cycle:  40\n",
      "2023-03-09 10:19:22.430993: loading checkpoint /home/annalena/Seminar_Medical_Image_Analysis/code/nnUNet_trained_models/nnUNet/2d/Task500_ACDC/nnUNetTrainerV2_Adam_fixedSchedule_Zhao2022_beta__nnUNetPlansv2.1_bs08/fold_0/model_ep_073.model train= False\n",
      "0\n",
      "2023-03-09 10:19:23.561199: total nb epochs: 120 epoch per cycle:  40\n",
      "2023-03-09 10:19:23.561429: loading checkpoint /home/annalena/Seminar_Medical_Image_Analysis/code/nnUNet_trained_models/nnUNet/2d/Task500_ACDC/nnUNetTrainerV2_Adam_fixedSchedule_Zhao2022_beta__nnUNetPlansv2.1_bs08/fold_0/model_ep_038.model train= False\n",
      "0\n",
      "2023-03-09 10:19:24.688339: total nb epochs: 120 epoch per cycle:  40\n",
      "2023-03-09 10:19:24.688595: loading checkpoint /home/annalena/Seminar_Medical_Image_Analysis/code/nnUNet_trained_models/nnUNet/2d/Task500_ACDC/nnUNetTrainerV2_Adam_fixedSchedule_Zhao2022_beta__nnUNetPlansv2.1_bs08/fold_0/model_ep_079.model train= False\n",
      "0\n",
      "2023-03-09 10:19:25.830940: total nb epochs: 120 epoch per cycle:  40\n",
      "2023-03-09 10:19:25.831209: loading checkpoint /home/annalena/Seminar_Medical_Image_Analysis/code/nnUNet_trained_models/nnUNet/2d/Task500_ACDC/nnUNetTrainerV2_Adam_fixedSchedule_Zhao2022_beta__nnUNetPlansv2.1_bs08/fold_0/model_ep_080.model train= False\n",
      "0\n",
      "2023-03-09 10:19:26.844313: total nb epochs: 120 epoch per cycle:  40\n",
      "2023-03-09 10:19:26.844549: loading checkpoint /home/annalena/Seminar_Medical_Image_Analysis/code/nnUNet_trained_models/nnUNet/2d/Task500_ACDC/nnUNetTrainerV2_Adam_fixedSchedule_Zhao2022_beta__nnUNetPlansv2.1_bs08/fold_0/model_ep_076.model train= False\n",
      "0\n",
      "2023-03-09 10:19:28.001125: total nb epochs: 120 epoch per cycle:  40\n",
      "2023-03-09 10:19:28.001506: loading checkpoint /home/annalena/Seminar_Medical_Image_Analysis/code/nnUNet_trained_models/nnUNet/2d/Task500_ACDC/nnUNetTrainerV2_Adam_fixedSchedule_Zhao2022_beta__nnUNetPlansv2.1_bs08/fold_0/model_ep_034.model train= False\n",
      "0\n",
      "2023-03-09 10:19:29.057739: total nb epochs: 120 epoch per cycle:  40\n",
      "2023-03-09 10:19:29.057957: loading checkpoint /home/annalena/Seminar_Medical_Image_Analysis/code/nnUNet_trained_models/nnUNet/2d/Task500_ACDC/nnUNetTrainerV2_Adam_fixedSchedule_Zhao2022_beta__nnUNetPlansv2.1_bs08/fold_0/model_ep_115.model train= False\n",
      "0\n",
      "2023-03-09 10:19:30.076105: total nb epochs: 120 epoch per cycle:  40\n",
      "2023-03-09 10:19:30.076331: loading checkpoint /home/annalena/Seminar_Medical_Image_Analysis/code/nnUNet_trained_models/nnUNet/2d/Task500_ACDC/nnUNetTrainerV2_Adam_fixedSchedule_Zhao2022_beta__nnUNetPlansv2.1_bs08/fold_0/model_ep_096.model train= False\n",
      "0\n",
      "2023-03-09 10:19:31.209444: total nb epochs: 120 epoch per cycle:  40\n",
      "2023-03-09 10:19:31.209694: loading checkpoint /home/annalena/Seminar_Medical_Image_Analysis/code/nnUNet_trained_models/nnUNet/2d/Task500_ACDC/nnUNetTrainerV2_Adam_fixedSchedule_Zhao2022_beta__nnUNetPlansv2.1_bs08/fold_0/model_ep_109.model train= False\n",
      "0\n",
      "2023-03-09 10:19:32.346570: total nb epochs: 120 epoch per cycle:  40\n",
      "2023-03-09 10:19:32.346841: loading checkpoint /home/annalena/Seminar_Medical_Image_Analysis/code/nnUNet_trained_models/nnUNet/2d/Task500_ACDC/nnUNetTrainerV2_Adam_fixedSchedule_Zhao2022_beta__nnUNetPlansv2.1_bs08/fold_0/model_ep_106.model train= False\n",
      "0\n",
      "2023-03-09 10:19:33.470671: total nb epochs: 120 epoch per cycle:  40\n",
      "2023-03-09 10:19:33.470899: loading checkpoint /home/annalena/Seminar_Medical_Image_Analysis/code/nnUNet_trained_models/nnUNet/2d/Task500_ACDC/nnUNetTrainerV2_Adam_fixedSchedule_Zhao2022_beta__nnUNetPlansv2.1_bs08/fold_0/model_ep_100.model train= False\n",
      "0\n",
      "2023-03-09 10:19:34.488616: total nb epochs: 120 epoch per cycle:  40\n",
      "2023-03-09 10:19:34.488848: loading checkpoint /home/annalena/Seminar_Medical_Image_Analysis/code/nnUNet_trained_models/nnUNet/2d/Task500_ACDC/nnUNetTrainerV2_Adam_fixedSchedule_Zhao2022_beta__nnUNetPlansv2.1_bs08/fold_0/model_ep_077.model train= False\n",
      "0\n",
      "2023-03-09 10:19:35.532104: total nb epochs: 120 epoch per cycle:  40\n",
      "2023-03-09 10:19:35.532324: loading checkpoint /home/annalena/Seminar_Medical_Image_Analysis/code/nnUNet_trained_models/nnUNet/2d/Task500_ACDC/nnUNetTrainerV2_Adam_fixedSchedule_Zhao2022_beta__nnUNetPlansv2.1_bs08/fold_0/model_ep_033.model train= False\n",
      "0\n",
      "2023-03-09 10:19:36.673605: total nb epochs: 120 epoch per cycle:  40\n",
      "2023-03-09 10:19:36.673862: loading checkpoint /home/annalena/Seminar_Medical_Image_Analysis/code/nnUNet_trained_models/nnUNet/2d/Task500_ACDC/nnUNetTrainerV2_Adam_fixedSchedule_Zhao2022_beta__nnUNetPlansv2.1_bs08/fold_0/model_ep_092.model train= False\n",
      "0\n",
      "2023-03-09 10:19:37.826377: total nb epochs: 120 epoch per cycle:  40\n",
      "2023-03-09 10:19:37.826668: loading checkpoint /home/annalena/Seminar_Medical_Image_Analysis/code/nnUNet_trained_models/nnUNet/2d/Task500_ACDC/nnUNetTrainerV2_Adam_fixedSchedule_Zhao2022_beta__nnUNetPlansv2.1_bs08/fold_0/model_ep_098.model train= False\n",
      "0\n",
      "2023-03-09 10:19:38.956721: total nb epochs: 120 epoch per cycle:  40\n",
      "2023-03-09 10:19:38.956949: loading checkpoint /home/annalena/Seminar_Medical_Image_Analysis/code/nnUNet_trained_models/nnUNet/2d/Task500_ACDC/nnUNetTrainerV2_Adam_fixedSchedule_Zhao2022_beta__nnUNetPlansv2.1_bs08/fold_0/model_ep_099.model train= False\n",
      "0\n",
      "2023-03-09 10:19:40.069424: total nb epochs: 120 epoch per cycle:  40\n",
      "2023-03-09 10:19:40.069650: loading checkpoint /home/annalena/Seminar_Medical_Image_Analysis/code/nnUNet_trained_models/nnUNet/2d/Task500_ACDC/nnUNetTrainerV2_Adam_fixedSchedule_Zhao2022_beta__nnUNetPlansv2.1_bs08/fold_0/model_ep_112.model train= False\n",
      "0\n",
      "2023-03-09 10:19:41.220444: total nb epochs: 120 epoch per cycle:  40\n",
      "2023-03-09 10:19:41.220691: loading checkpoint /home/annalena/Seminar_Medical_Image_Analysis/code/nnUNet_trained_models/nnUNet/2d/Task500_ACDC/nnUNetTrainerV2_Adam_fixedSchedule_Zhao2022_beta__nnUNetPlansv2.1_bs08/fold_0/model_ep_102.model train= False\n",
      "0\n",
      "2023-03-09 10:19:42.335850: total nb epochs: 120 epoch per cycle:  40\n",
      "2023-03-09 10:19:42.336076: loading checkpoint /home/annalena/Seminar_Medical_Image_Analysis/code/nnUNet_trained_models/nnUNet/2d/Task500_ACDC/nnUNetTrainerV2_Adam_fixedSchedule_Zhao2022_beta__nnUNetPlansv2.1_bs08/fold_0/model_ep_105.model train= False\n",
      "0\n",
      "2023-03-09 10:19:43.442756: total nb epochs: 120 epoch per cycle:  40\n",
      "2023-03-09 10:19:43.443007: loading checkpoint /home/annalena/Seminar_Medical_Image_Analysis/code/nnUNet_trained_models/nnUNet/2d/Task500_ACDC/nnUNetTrainerV2_Adam_fixedSchedule_Zhao2022_beta__nnUNetPlansv2.1_bs08/fold_0/model_ep_117.model train= False\n",
      "0\n",
      "2023-03-09 10:19:44.507032: total nb epochs: 120 epoch per cycle:  40\n",
      "2023-03-09 10:19:44.507270: loading checkpoint /home/annalena/Seminar_Medical_Image_Analysis/code/nnUNet_trained_models/nnUNet/2d/Task500_ACDC/nnUNetTrainerV2_Adam_fixedSchedule_Zhao2022_beta__nnUNetPlansv2.1_bs08/fold_0/model_ep_119.model train= False\n",
      "0\n",
      "2023-03-09 10:19:45.361185: total nb epochs: 120 epoch per cycle:  40\n",
      "2023-03-09 10:19:45.361423: loading checkpoint /home/annalena/Seminar_Medical_Image_Analysis/code/nnUNet_trained_models/nnUNet/2d/Task500_ACDC/nnUNetTrainerV2_Adam_fixedSchedule_Zhao2022_beta__nnUNetPlansv2.1_bs08/fold_0/model_ep_116.model train= False\n",
      "0\n",
      "2023-03-09 10:19:46.431760: total nb epochs: 120 epoch per cycle:  40\n",
      "2023-03-09 10:19:46.432024: loading checkpoint /home/annalena/Seminar_Medical_Image_Analysis/code/nnUNet_trained_models/nnUNet/2d/Task500_ACDC/nnUNetTrainerV2_Adam_fixedSchedule_Zhao2022_beta__nnUNetPlansv2.1_bs08/fold_0/model_ep_108.model train= False\n",
      "0\n",
      "2023-03-09 10:19:47.548056: total nb epochs: 120 epoch per cycle:  40\n",
      "2023-03-09 10:19:47.548287: loading checkpoint /home/annalena/Seminar_Medical_Image_Analysis/code/nnUNet_trained_models/nnUNet/2d/Task500_ACDC/nnUNetTrainerV2_Adam_fixedSchedule_Zhao2022_beta__nnUNetPlansv2.1_bs08/fold_0/model_ep_032.model train= False\n",
      "0\n",
      "2023-03-09 10:19:48.669192: total nb epochs: 120 epoch per cycle:  40\n",
      "2023-03-09 10:19:48.669422: loading checkpoint /home/annalena/Seminar_Medical_Image_Analysis/code/nnUNet_trained_models/nnUNet/2d/Task500_ACDC/nnUNetTrainerV2_Adam_fixedSchedule_Zhao2022_beta__nnUNetPlansv2.1_bs08/fold_0/model_ep_094.model train= False\n",
      "0\n",
      "2023-03-09 10:19:49.786662: total nb epochs: 120 epoch per cycle:  40\n",
      "2023-03-09 10:19:49.786877: loading checkpoint /home/annalena/Seminar_Medical_Image_Analysis/code/nnUNet_trained_models/nnUNet/2d/Task500_ACDC/nnUNetTrainerV2_Adam_fixedSchedule_Zhao2022_beta__nnUNetPlansv2.1_bs08/fold_0/model_ep_040.model train= False\n",
      "0\n",
      "2023-03-09 10:19:50.901482: total nb epochs: 120 epoch per cycle:  40\n",
      "2023-03-09 10:19:50.901713: loading checkpoint /home/annalena/Seminar_Medical_Image_Analysis/code/nnUNet_trained_models/nnUNet/2d/Task500_ACDC/nnUNetTrainerV2_Adam_fixedSchedule_Zhao2022_beta__nnUNetPlansv2.1_bs08/fold_0/model_ep_097.model train= False\n",
      "0\n",
      "2023-03-09 10:19:52.062571: total nb epochs: 120 epoch per cycle:  40\n",
      "2023-03-09 10:19:52.062804: loading checkpoint /home/annalena/Seminar_Medical_Image_Analysis/code/nnUNet_trained_models/nnUNet/2d/Task500_ACDC/nnUNetTrainerV2_Adam_fixedSchedule_Zhao2022_beta__nnUNetPlansv2.1_bs08/fold_0/model_ep_095.model train= False\n",
      "0\n",
      "2023-03-09 10:19:53.185997: total nb epochs: 120 epoch per cycle:  40\n",
      "2023-03-09 10:19:53.186222: loading checkpoint /home/annalena/Seminar_Medical_Image_Analysis/code/nnUNet_trained_models/nnUNet/2d/Task500_ACDC/nnUNetTrainerV2_Adam_fixedSchedule_Zhao2022_beta__nnUNetPlansv2.1_bs08/fold_0/model_ep_074.model train= False\n",
      "0\n",
      "2023-03-09 10:19:54.301450: total nb epochs: 120 epoch per cycle:  40\n",
      "2023-03-09 10:19:54.301670: loading checkpoint /home/annalena/Seminar_Medical_Image_Analysis/code/nnUNet_trained_models/nnUNet/2d/Task500_ACDC/nnUNetTrainerV2_Adam_fixedSchedule_Zhao2022_beta__nnUNetPlansv2.1_bs08/fold_0/model_ep_110.model train= False\n",
      "0\n",
      "2023-03-09 10:19:55.323164: total nb epochs: 120 epoch per cycle:  40\n",
      "2023-03-09 10:19:55.323413: loading checkpoint /home/annalena/Seminar_Medical_Image_Analysis/code/nnUNet_trained_models/nnUNet/2d/Task500_ACDC/nnUNetTrainerV2_Adam_fixedSchedule_Zhao2022_beta__nnUNetPlansv2.1_bs08/fold_0/model_ep_114.model train= False\n",
      "0\n"
     ]
    }
   ],
   "source": [
    "# collect all weights of checkpoints in one tensor\n",
    "flat_weights = torch.empty((len(checkpoints_all), len_weights ))\n",
    "for i in range(len(checkpoints_all)):  \n",
    "    pkl = \"/home/annalena/Seminar_Medical_Image_Analysis/code/nnUNet_trained_models/nnUNet/2d/Task500_ACDC/nnUNetTrainerV2_Adam_fixedSchedule_Zhao2022_beta__nnUNetPlansv2.1_bs08/fold_0/\"+checkpoints_all[i]+\".model.pkl\"\n",
    "    checkpoint = pkl[:-4]\n",
    "    train = False\n",
    "    trainer = restore_model(pkl, checkpoint, train)\n",
    "    #t = torch.empty()\n",
    "    helper = 0\n",
    "    for param in trainer.network.parameters():\n",
    "        l = int(param.flatten().size(dim=0))\n",
    "        flat_weights[i, helper:helper+l] = param.flatten()\n",
    "        helper += l\n",
    "    print(helper - len_weights)"
   ]
  },
  {
   "cell_type": "code",
   "execution_count": 69,
   "id": "d2d5d964-7c30-49c3-a318-69e7e04cdbba",
   "metadata": {},
   "outputs": [
    {
     "data": {
      "text/plain": [
       "array([1, 2, 3])"
      ]
     },
     "execution_count": 69,
     "metadata": {},
     "output_type": "execute_result"
    }
   ],
   "source": [
    "int_checkpoints_all = [int(cp[-4:].replace('_', '')) for cp in checkpoints_all]\n",
    "colors_checkpoints_all = []\n",
    "for check in int_checkpoints_all:\n",
    "    if check <= 40:\n",
    "        colors_checkpoints_all.append(1)\n",
    "    elif check <= 80:\n",
    "        colors_checkpoints_all.append(2)\n",
    "    elif check <= 120:\n",
    "        colors_checkpoints_all.append(3)\n",
    "np.unique(colors_checkpoints_all)"
   ]
  },
  {
   "cell_type": "code",
   "execution_count": 80,
   "id": "9abe08cd-ac99-4c26-9f1f-5811e2255d8d",
   "metadata": {},
   "outputs": [],
   "source": [
    "fit = umap.UMAP(n_neighbors = 10, min_dist = 0.8)\n",
    "u = fit.fit_transform(flat_weights.detach().numpy())"
   ]
  },
  {
   "cell_type": "code",
   "execution_count": 72,
   "id": "db7bab77-0a3e-4ada-83b7-9faf689db399",
   "metadata": {},
   "outputs": [
    {
     "name": "stdout",
     "output_type": "stream",
     "text": [
      "d 8 91\n",
      "b 17 71\n",
      "c 22 80\n",
      "a 44 40\n"
     ]
    }
   ],
   "source": [
    "# which checkpoint id corresponds to the jumps\n",
    "# jump from a to b and c to d\n",
    "for i, check in enumerate(int_checkpoints_all):\n",
    "    if check == 40:\n",
    "        print(\"a\", i, check)\n",
    "        a = i\n",
    "    if check == 80-9:\n",
    "        print(\"b\", i, check)\n",
    "        b = i\n",
    "    if check == 80:\n",
    "        print(\"c\", i, check)\n",
    "        c = i\n",
    "    if check == 120-29:\n",
    "        print(\"d\", i, check)\n",
    "        d = i"
   ]
  },
  {
   "cell_type": "code",
   "execution_count": 81,
   "id": "d7e8f013-c6ed-490b-915a-8886a4754b0f",
   "metadata": {},
   "outputs": [
    {
     "data": {
      "image/png": "[encoded data removed]",
      "text/plain": [
       "<Figure size 640x480 with 1 Axes>"
      ]
     },
     "metadata": {},
     "output_type": "display_data"
    }
   ],
   "source": [
    "fig, ax = plt.subplots()\n",
    "ax.scatter(u[:,0], u[:,1], c=colors_checkpoints_all, alpha=0.7)\n",
    "for i, txt in enumerate(int_checkpoints_all):\n",
    "    ax.annotate(str(txt), (u[i,0], u[i,1]), fontsize=5)\n",
    "x_values = [u[a,0], u[b,0]]\n",
    "y_values = [u[a,1], u[b,1]]\n",
    "ax.plot(x_values, y_values, linestyle=\"--\", c = 'black')\n",
    "x_values2 = [u[c,0], u[d,0]]\n",
    "y_values2 = [u[c,1], u[d,1]]\n",
    "ax.plot(x_values2, y_values2, linestyle=\"--\", c = 'black')\n",
    "#plt.axis('off')\n",
    "plt.savefig(\"plots/Adam_umap_{0}\".format(datetime.now().strftime(\"%Y-%m-%d_%H%M%S\")))\n",
    "plt.show()"
   ]
  },
  {
   "cell_type": "code",
   "execution_count": 76,
   "id": "ca9ed476-3857-412f-b1af-eab4ea673c7f",
   "metadata": {},
   "outputs": [],
   "source": [
    "pca = PCA(n_components=2)\n",
    "pca_weights = pca.fit_transform(flat_weights.detach().numpy())"
   ]
  },
  {
   "cell_type": "code",
   "execution_count": 77,
   "id": "1aa5071d-1800-4eab-b570-7fb6de2d88ed",
   "metadata": {},
   "outputs": [
    {
     "data": {
      "image/png": "[encoded data removed]",
      "text/plain": [
       "<Figure size 640x480 with 1 Axes>"
      ]
     },
     "metadata": {},
     "output_type": "display_data"
    }
   ],
   "source": [
    "plot_weights(pca_weights)"
   ]
  },
  {
   "cell_type": "code",
   "execution_count": null,
   "id": "62b80f6f-9fa1-4f7e-a2ab-4db2b63a92fe",
   "metadata": {},
   "outputs": [],
   "source": []
  }
 ],
 "metadata": {
  "kernelspec": {
   "display_name": "Python 3 (ipykernel)",
   "language": "python",
   "name": "python3"
  },
  "language_info": {
   "codemirror_mode": {
    "name": "ipython",
    "version": 3
   },
   "file_extension": ".py",
   "mimetype": "text/x-python",
   "name": "python",
   "nbconvert_exporter": "python",
   "pygments_lexer": "ipython3",
   "version": "3.9.12"
  }
 },
 "nbformat": 4,
 "nbformat_minor": 5
}
